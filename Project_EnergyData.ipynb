{
 "cells": [
  {
   "cell_type": "markdown",
   "metadata": {},
   "source": [
    "# Introduction\n",
    "\n",
    "This project aims to predict solar energy production using machine learning models. Historical weather and energy data are imported from CSV files and stored in a MongoDB database to facilitate data access and manipulation. The project is structured into several key steps:\n",
    "\n",
    "1. **Data Import**: Data is imported from CSV files and stored in MongoDB.\n",
    "2. **Data Preprocessing**: Data is cleaned and prepared for model training.\n",
    "3. **Model Training**: Several machine learning models, including Linear Regression, Random Forest, and Support Vector Machine, are trained on the historical data.\n",
    "4. **Model Prediction**: The models are used to make predictions on test data, and their performance is evaluated using metrics such as RMSE, MSE, and MAPE.\n",
    "5. **Interactive Dashboard**: An interactive dashboard is created using Dash to visualize the predictions and performance metrics of the models.\n",
    "\n",
    "This project helps to understand the factors influencing solar energy production and improves forecasting through the application of machine learning techniques.\n"
   ]
  },
  {
   "cell_type": "code",
   "execution_count": 4,
   "metadata": {},
   "outputs": [],
   "source": [
    "import pandas as pd\n",
    "from pymongo import MongoClient\n",
    "from sklearn.model_selection import train_test_split\n",
    "from sklearn.linear_model import LinearRegression\n",
    "from sklearn.ensemble import RandomForestRegressor\n",
    "from sklearn.svm import SVR\n",
    "from sklearn.preprocessing import StandardScaler\n",
    "from sklearn.metrics import mean_squared_error, mean_absolute_error\n",
    "import numpy as np\n",
    "import math\n",
    "import dash\n",
    "from dash import dcc, html, Input, Output\n",
    "import plotly.graph_objs as go"
   ]
  },
  {
   "cell_type": "markdown",
   "metadata": {},
   "source": [
    "# Data Importation\n",
    "\n",
    "In this section, we will import the necessary libraries, set up the MongoDB connection, and import the CSV data into MongoDB. After that, we will preprocess the data for further analysis.\n"
   ]
  },
  {
   "cell_type": "code",
   "execution_count": 5,
   "metadata": {},
   "outputs": [
    {
     "name": "stdout",
     "output_type": "stream",
     "text": [
      "Data has been successfully imported into MongoDB.\n"
     ]
    }
   ],
   "source": [
    "# MongoDB setup\n",
    "client = MongoClient('mongodb://localhost:27017/')\n",
    "db = client['EnergyData1']\n",
    "collection_train = db['WeatherAndEnergyDataTrain']\n",
    "collection_test = db['WeatherAndEnergyDataTest']\n",
    "\n",
    "# Paths to CSV files\n",
    "csv_files = {\n",
    "    \"train\": \"Datasets/Energy_Data_20200920_20231027.csv\",\n",
    "    \"test\": \"Datasets/Energy_Data_20200920_20240118.csv\"\n",
    "}\n",
    "\n",
    "# Columns to import for each file\n",
    "columns = ['dtm', 'MIP', 'Solar_MW', 'Solar_capacity_mwp', 'Solar_installedcapacity_mwp', 'SS_Price', 'boa_MWh', 'DA_Price']\n",
    "\n",
    "def import_csv_data(file_path, required_columns, collection):\n",
    "    df = pd.read_csv(file_path)\n",
    "    df = df[required_columns]\n",
    "    records = df.to_dict('records')\n",
    "    collection.insert_many(records)\n",
    "\n",
    "# Import CSV data for training and testing\n",
    "import_csv_data(csv_files[\"train\"], columns, collection_train)\n",
    "import_csv_data(csv_files[\"test\"], columns, collection_test)\n",
    "\n",
    "print(\"Data has been successfully imported into MongoDB.\")"
   ]
  },
  {
   "cell_type": "markdown",
   "metadata": {},
   "source": [
    "# Data Preprocessing\n",
    "\n",
    "In this section, we will retrieve the data from MongoDB and preprocess it. This includes handling missing data and displaying basic statistics.\n"
   ]
  },
  {
   "cell_type": "code",
   "execution_count": 6,
   "metadata": {},
   "outputs": [
    {
     "name": "stdout",
     "output_type": "stream",
     "text": [
      "                MIP      Solar_MW  Solar_capacity_mwp  \\\n",
      "count  54384.000000  54384.000000        54384.000000   \n",
      "mean     129.647321    237.101422         2180.185332   \n",
      "std       96.188113    382.635087           82.631288   \n",
      "min      -77.290000      0.000000         2108.431714   \n",
      "25%       67.500000      0.000000         2118.198318   \n",
      "50%      104.800000      0.368705         2139.253276   \n",
      "75%      168.535000    353.564719         2267.405793   \n",
      "max     1983.660000   1792.289600         2337.607243   \n",
      "\n",
      "       Solar_installedcapacity_mwp      SS_Price       boa_MWh      DA_Price  \n",
      "count                 54384.000000  54384.000000  54384.000000  54384.000000  \n",
      "mean                   2305.999500    130.830663     -1.675239    133.842703  \n",
      "std                      97.989387    132.215372     22.906842    102.125494  \n",
      "min                    2206.064655   -185.330000   -599.500000    -51.520000  \n",
      "25%                    2229.567230     60.000000      0.000000     69.775000  \n",
      "50%                    2264.538513    105.000000      0.000000    105.510000  \n",
      "75%                    2407.928381    176.455000      0.000000    170.782500  \n",
      "max                    2487.180474   4037.800000      0.000000   2196.220000  \n",
      "                MIP      Solar_MW  Solar_capacity_mwp  \\\n",
      "count  58368.000000  58368.000000        58368.000000   \n",
      "mean     126.181076    229.162946         2213.596987   \n",
      "std       94.115592    379.457266          128.528670   \n",
      "min      -77.290000      0.000000         1863.496832   \n",
      "25%       67.237500      0.000000         2140.826405   \n",
      "50%      100.800000      0.015504         2167.493256   \n",
      "75%      162.582500    327.514332         2294.087775   \n",
      "max     1983.660000   1811.852940         2454.720780   \n",
      "\n",
      "       Solar_installedcapacity_mwp      SS_Price       boa_MWh      DA_Price  \n",
      "count                 58368.000000  58368.000000  58368.000000  58368.000000  \n",
      "mean                   2341.437871    127.410760     -1.566189    130.250985  \n",
      "std                     145.720673    128.895991     22.127303     99.830685  \n",
      "min                    1955.199129   -185.330000   -599.500000    -51.520000  \n",
      "25%                    2253.403130     59.900000      0.000000     69.617500  \n",
      "50%                    2295.210540    102.500000      0.000000    101.305000  \n",
      "75%                    2437.900986    169.900000      0.000000    164.665000  \n",
      "max                    2609.227457   4037.800000      0.000000   2196.220000  \n"
     ]
    },
    {
     "name": "stderr",
     "output_type": "stream",
     "text": [
      "C:\\Users\\EricR\\AppData\\Local\\Temp\\ipykernel_2348\\1087255038.py:10: FutureWarning: DataFrame.fillna with 'method' is deprecated and will raise in a future version. Use obj.ffill() or obj.bfill() instead.\n",
      "  data_train.fillna(method='ffill', inplace=True)\n",
      "C:\\Users\\EricR\\AppData\\Local\\Temp\\ipykernel_2348\\1087255038.py:11: FutureWarning: DataFrame.fillna with 'method' is deprecated and will raise in a future version. Use obj.ffill() or obj.bfill() instead.\n",
      "  data_test.fillna(method='ffill', inplace=True)\n"
     ]
    }
   ],
   "source": [
    "\n",
    "# Retrieve data from MongoDB for EDA\n",
    "data_train = pd.DataFrame(list(collection_train.find()))\n",
    "data_test = pd.DataFrame(list(collection_test.find()))\n",
    "\n",
    "# Drop the MongoDB ID column\n",
    "data_train.drop('_id', axis=1, inplace=True)\n",
    "data_test.drop('_id', axis=1, inplace=True)\n",
    "\n",
    "# Handle missing data\n",
    "data_train.fillna(method='ffill', inplace=True)\n",
    "data_test.fillna(method='ffill', inplace=True)\n",
    "\n",
    "# Display basic statistics\n",
    "print(data_train.describe())\n",
    "print(data_test.describe())\n",
    "\n",
    "# Close MongoDB connection\n",
    "client.close()\n"
   ]
  },
  {
   "cell_type": "markdown",
   "metadata": {},
   "source": [
    "# Model Training\n",
    "\n",
    "In this section, we will split the data into training and validation sets, scale the features, and train multiple models (Linear Regression, Random Forest, and Support Vector Machine).\n"
   ]
  },
  {
   "cell_type": "code",
   "execution_count": 7,
   "metadata": {},
   "outputs": [
    {
     "name": "stdout",
     "output_type": "stream",
     "text": [
      "Models have been trained.\n"
     ]
    }
   ],
   "source": [
    "features = ['MIP', 'Solar_capacity_mwp', 'Solar_installedcapacity_mwp', 'SS_Price', 'boa_MWh', 'DA_Price']\n",
    "target = 'Solar_MW'\n",
    "\n",
    "X_train = data_train[features]\n",
    "y_train = data_train[target]\n",
    "\n",
    "# Split the data\n",
    "X_train_split, X_valid_split, y_train_split, y_valid_split = train_test_split(X_train, y_train, test_size=0.2, random_state=42)\n",
    "\n",
    "# Scale the features\n",
    "scaler = StandardScaler()\n",
    "X_train_scaled = scaler.fit_transform(X_train_split)\n",
    "X_valid_scaled = scaler.transform(X_valid_split)\n",
    "\n",
    "# Train models\n",
    "models = {\n",
    "    'lr': LinearRegression(),\n",
    "    'rf': RandomForestRegressor(),\n",
    "    'svm': SVR()\n",
    "}\n",
    "\n",
    "for model_name, model in models.items():\n",
    "    model.fit(X_train_scaled, y_train_split)\n",
    "\n",
    "print(\"Models have been trained.\")\n"
   ]
  },
  {
   "cell_type": "markdown",
   "metadata": {},
   "source": [
    "# Model Prediction\n",
    "\n",
    "In this section, we will prepare the test data, make predictions using the trained models, and calculate evaluation metrics such as RMSE, MSE, and MAPE.\n"
   ]
  },
  {
   "cell_type": "code",
   "execution_count": 8,
   "metadata": {},
   "outputs": [
    {
     "name": "stdout",
     "output_type": "stream",
     "text": [
      "Evaluation metrics calculated: {'lr': {'RMSE': 379.4843489745361, 'MSE': 144008.3711166275, 'MAPE': inf}, 'rf': {'RMSE': 403.06649233131674, 'MSE': 162462.5972402714, 'MAPE': inf}, 'svm': {'RMSE': 432.491909966763, 'MSE': 187049.25218669864, 'MAPE': inf}}\n"
     ]
    }
   ],
   "source": [
    "# Prepare test data\n",
    "X_test = data_test[features]\n",
    "y_test = data_test[target]\n",
    "\n",
    "# Scale the test data\n",
    "X_test_scaled = scaler.transform(X_test)\n",
    "\n",
    "# Make predictions\n",
    "predictions = {model_name: model.predict(X_test_scaled) for model_name, model in models.items()}\n",
    "\n",
    "# Calculate evaluation metrics\n",
    "results = {}\n",
    "for model_name, preds in predictions.items():\n",
    "    rmse = math.sqrt(mean_squared_error(y_test, preds))\n",
    "    mse = mean_squared_error(y_test, preds)\n",
    "    mape = np.mean(np.abs((y_test - preds) / y_test)) * 100\n",
    "    results[model_name] = {'RMSE': rmse, 'MSE': mse, 'MAPE': mape}\n",
    "\n",
    "print(\"Evaluation metrics calculated:\", results)\n"
   ]
  },
  {
   "cell_type": "markdown",
   "metadata": {},
   "source": [
    "# Dashboard\n",
    "\n",
    "In this section, we will create a Dash dashboard to visualize the predictions and evaluation metrics. The dashboard will have buttons to start and end the prediction process and a dropdown to select the model. The results will be displayed in a graph and as text.\n"
   ]
  },
  {
   "cell_type": "code",
   "execution_count": 9,
   "metadata": {},
   "outputs": [
    {
     "name": "stdout",
     "output_type": "stream",
     "text": [
      "Dashboard is running at http://127.0.0.1:8051\n"
     ]
    },
    {
     "data": {
      "text/html": [
       "\n",
       "        <iframe\n",
       "            width=\"100%\"\n",
       "            height=\"650\"\n",
       "            src=\"http://127.0.0.1:8051/\"\n",
       "            frameborder=\"0\"\n",
       "            allowfullscreen\n",
       "            \n",
       "        ></iframe>\n",
       "        "
      ],
      "text/plain": [
       "<IPython.lib.display.IFrame at 0x1ce9a3ac950>"
      ]
     },
     "metadata": {},
     "output_type": "display_data"
    }
   ],
   "source": [
    "# Define the Dash app\n",
    "app = dash.Dash(__name__)\n",
    "\n",
    "# Define the layout of the dashboard\n",
    "app.layout = html.Div([\n",
    "    html.Div([\n",
    "        html.Button('Start', id='start-button', n_clicks=0, style={'margin-right': '10px'}),\n",
    "        html.Button('End', id='end-button', n_clicks=0),\n",
    "    ], style={'textAlign': 'left', 'margin': '20px'}),\n",
    "    \n",
    "    html.Div([\n",
    "        dcc.Dropdown(\n",
    "            id='model-selector',\n",
    "            options=[\n",
    "                {'label': 'Linear Regression', 'value': 'lr'},\n",
    "                {'label': 'Random Forest', 'value': 'rf'},\n",
    "                {'label': 'Support Vector Machine', 'value': 'svm'}\n",
    "            ],\n",
    "            value='lr',\n",
    "            style={'width': '50%', 'display': 'inline-block'}\n",
    "        ),\n",
    "        dcc.Graph(id='prediction-graph', style={'width': '100%', 'display': 'inline-block'})\n",
    "    ], style={'textAlign': 'right', 'margin': '20px'}),\n",
    "    \n",
    "    html.Div([\n",
    "        html.Div(id='rmse-display', style={'margin': '10px'}),\n",
    "        html.Div(id='mse-display', style={'margin': '10px'}),\n",
    "        html.Div(id='mape-display', style={'margin': '10px'})\n",
    "    ])\n",
    "], style={'font-family': 'Arial', 'padding': '10px'})\n",
    "\n",
    "@app.callback(\n",
    "    [Output('prediction-graph', 'figure'),\n",
    "     Output('rmse-display', 'children'),\n",
    "     Output('mse-display', 'children'),\n",
    "     Output('mape-display', 'children')],\n",
    "    [Input('start-button', 'n_clicks'),\n",
    "     Input('model-selector', 'value')]\n",
    ")\n",
    "def update_output(n_clicks, model_type):\n",
    "    if n_clicks > 0:\n",
    "        # Make predictions using the selected model\n",
    "        preds = predictions[model_type]\n",
    "        \n",
    "        # Plotting\n",
    "        trace = go.Scatter(x=y_test.index, y=preds, mode='lines+markers', name='Predicted')\n",
    "        trace_actual = go.Scatter(x=y_test.index, y=y_test, mode='lines', name='Actual')\n",
    "        layout = go.Layout(title='Solar Energy Production Forecast', xaxis_title='Time', yaxis_title='Energy Produced')\n",
    "        fig = go.Figure(data=[trace, trace_actual], layout=layout)\n",
    "        \n",
    "        # Retrieve evaluation metrics\n",
    "        metrics = results[model_type]\n",
    "        \n",
    "        return fig, f\"RMSE: {metrics['RMSE']}\", f\"MSE: {metrics['MSE']}\", f\"MAPE: {metrics['MAPE']}\"\n",
    "    return go.Figure(), '', '', ''\n",
    "\n",
    "if __name__ == '__main__':\n",
    "    print(\"Dashboard is running at http://127.0.0.1:8051\")\n",
    "    app.run_server(debug=True, port=8051)\n"
   ]
  }
 ],
 "metadata": {
  "kernelspec": {
   "display_name": "base",
   "language": "python",
   "name": "python3"
  },
  "language_info": {
   "codemirror_mode": {
    "name": "ipython",
    "version": 3
   },
   "file_extension": ".py",
   "mimetype": "text/x-python",
   "name": "python",
   "nbconvert_exporter": "python",
   "pygments_lexer": "ipython3",
   "version": "3.11.7"
  }
 },
 "nbformat": 4,
 "nbformat_minor": 2
}
